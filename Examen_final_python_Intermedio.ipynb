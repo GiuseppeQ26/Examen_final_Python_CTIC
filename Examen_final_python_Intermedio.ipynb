{
  "nbformat": 4,
  "nbformat_minor": 0,
  "metadata": {
    "colab": {
      "provenance": [],
      "authorship_tag": "ABX9TyMLg9nW4x1qNNCck6Ez+Ir1",
      "include_colab_link": true
    },
    "kernelspec": {
      "name": "python3",
      "display_name": "Python 3"
    },
    "language_info": {
      "name": "python"
    }
  },
  "cells": [
    {
      "cell_type": "markdown",
      "metadata": {
        "id": "view-in-github",
        "colab_type": "text"
      },
      "source": [
        "<a href=\"https://colab.research.google.com/github/GiuseppeQ26/Examen_final_Python_CTIC/blob/main/Examen_final_python_Intermedio.ipynb\" target=\"_parent\"><img src=\"https://colab.research.google.com/assets/colab-badge.svg\" alt=\"Open In Colab\"/></a>"
      ]
    },
    {
      "cell_type": "code",
      "execution_count": null,
      "metadata": {
        "id": "PJP8QDdkP8ve"
      },
      "outputs": [],
      "source": []
    },
    {
      "cell_type": "markdown",
      "source": [
        "### **EXAMEN FINAL PYTHON INTERMEDIO**\n",
        "\n",
        "ALUMNO: GIUSEPPE ANSELMO QUEIROLO ANTON\n"
      ],
      "metadata": {
        "id": "CSgzuSiKvMyr"
      }
    },
    {
      "cell_type": "markdown",
      "source": [
        "Pregunta 1.\n",
        "\n",
        "PEP 8 es una guía con un conjunto de lineamientos y estilos para escribir codigo en Python y que estan diseñadas para mejorar la legibilidad y consistencia del código. PEP significa Python Enhancement Proposal (Propuesta de mejora de Python) y algunos ejemplos de su uso son:  \n",
        "\n",
        "*   Los nombres de variables y funciones deben estar en minúsculas con las palabras separadas con guiones bajos.\n",
        "*   Los operadores binarios deben estar rodeados con un solo espacio a cada lado.\n",
        "*   Usar comentarios para explicar que hace el código pero evitando escribir comentarios que simplemente repitan lo que esta haciendo el código.\n"
      ],
      "metadata": {
        "id": "-U1Reza5vI-R"
      }
    },
    {
      "cell_type": "code",
      "source": [
        "!python costo_servicio.py -h"
      ],
      "metadata": {
        "colab": {
          "base_uri": "https://localhost:8080/"
        },
        "id": "jJZolcuAQwa_",
        "outputId": "efc5708f-07d7-47ae-ae23-b503a5ba5fec"
      },
      "execution_count": 6,
      "outputs": [
        {
          "output_type": "stream",
          "name": "stdout",
          "text": [
            "usage: costo_servicio.py\n",
            "       [-h]\n",
            "       [--animal ANIMAL]\n",
            "       [--tratamiento TRATAMIENTO]\n",
            "\n",
            "optional arguments:\n",
            "  -h, --help\n",
            "    show this\n",
            "    help\n",
            "    message and\n",
            "    exit\n",
            "  --animal ANIMAL\n",
            "    Tipo de\n",
            "    animal para\n",
            "    el\n",
            "    tratamiento\n",
            "  --tratamiento TRATAMIENTO\n",
            "    Tipo de\n",
            "    tratamiento\n",
            "    o servicio\n"
          ]
        }
      ]
    },
    {
      "cell_type": "code",
      "source": [
        "!python costo_servicio.py --animal 'perro' --tratamiento 'corte de pelo'"
      ],
      "metadata": {
        "colab": {
          "base_uri": "https://localhost:8080/"
        },
        "id": "UeybyJ66k5zt",
        "outputId": "d38176c4-cae1-4396-ed68-1dafb9d12872"
      },
      "execution_count": 20,
      "outputs": [
        {
          "output_type": "stream",
          "name": "stdout",
          "text": [
            "El costo de corte de pelo para un perro es de 30"
          ]
        }
      ]
    },
    {
      "cell_type": "code",
      "source": [],
      "metadata": {
        "id": "e8J2COn_lcjK"
      },
      "execution_count": null,
      "outputs": []
    }
  ]
}